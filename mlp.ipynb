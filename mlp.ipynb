{
 "cells": [
  {
   "cell_type": "markdown",
   "metadata": {
    "id": "DVL7_bgmIAPR"
   },
   "source": [
    "# Neural Network (MLP)"
   ]
  },
  {
   "cell_type": "code",
   "execution_count": null,
   "metadata": {
    "id": "6ZbYjZZZ_yLV"
   },
   "outputs": [],
   "source": [
    "from IPython.core.display import display, HTML\n",
    "display(HTML(\"<style>.container { width:100% !important; }</style>\"))\n",
    "from sklearn.base import BaseEstimator, ClassifierMixin\n",
    "from sklearn.neural_network import MLPClassifier\n",
    "from sklearn.utils import shuffle\n",
    "from sklearn.model_selection import train_test_split\n",
    "from scipy.io import arff\n",
    "import numpy as np\n",
    "import matplotlib.pyplot as plt\n",
    "import pandas as pd\n",
    "import math\n",
    "import time\n",
    "import copy"
   ]
  },
  {
   "cell_type": "code",
   "execution_count": 6,
   "metadata": {
    "id": "_a2KSZ_7AN0G"
   },
   "outputs": [],
   "source": [
    "class MLP(BaseEstimator,ClassifierMixin):\n",
    "\n",
    "    def __init__(self, lr=.1, momentum=0, shuffle=True, hidden_layer_widths=None, num_epochs=5,\n",
    "                 val_size=0, no_change_count=10):\n",
    "        self.hidden_layer_widths = hidden_layer_widths\n",
    "        self.lr = lr\n",
    "        self.momentum = momentum\n",
    "        self.shuffle = shuffle\n",
    "        self.num_epochs = num_epochs\n",
    "        self.val_size = val_size\n",
    "        self.no_change_count = no_change_count\n",
    "\n",
    "    def fit(self, X, y, initial_weights=None):\n",
    "        self.initial_weights = initial_weights\n",
    "        self.weights = self.initialize_weights(X, y)\n",
    "            \n",
    "        if self.val_size > 0:\n",
    "            x_train, x_val, y_train, y_val = train_test_split(X, y, test_size=self.val_size)\n",
    "            non_change_count = 0\n",
    "            self.val_mse = []\n",
    "            self.train_mse = []\n",
    "            self.train_acc = []\n",
    "            self.val_acc = []\n",
    "            for j in range(self.num_epochs):\n",
    "                if non_change_count == self.no_change_count or j == (self.num_epochs-1):\n",
    "                    break\n",
    "                if self.shuffle: \n",
    "                    x_train, y_train = shuffle(x_train, y_train)\n",
    "                for row in range(x_train.shape[0]):\n",
    "                    self._forward(x_train, y_train, row)\n",
    "                    self._backward(x_train, y_train, row)\n",
    "                if j > 0:\n",
    "                    if np.abs(self.score(x_val, y_val) - self.val_acc[-1]) < .1:\n",
    "                        non_change_count = non_change_count + 1\n",
    "                    else:\n",
    "                        non_change_count = 0\n",
    "                self.val_mse.append(self.mse(x_val, y_val))\n",
    "                self.train_mse.append(self.mse(x_train, y_train))\n",
    "                self.train_acc.append(self.score(x_train, y_train))\n",
    "                self.val_acc.append(self.score(x_val, y_val)) \n",
    "        else:\n",
    "            for j in range(self.num_epochs):\n",
    "                if self.shuffle:\n",
    "                    X, y = shuffle(X,y)\n",
    "                for i in range(len(X)):\n",
    "                    self._forward(X, y, i)\n",
    "                    self._backward(X,y, i)\n",
    "        \n",
    "        self.final_num_epochs = j\n",
    "        \n",
    "    def _forward(self, X, y, indx):\n",
    "        self.z_h, self.z_o = self.calc_z_o(X, y, indx)\n",
    "          \n",
    "    def _backward(self, X, y, indx):\n",
    "        self.calc_node_deltas(X, y, indx)\n",
    "        self.calc_wt_updates(X, y, indx)\n",
    "        self.update_wts(X, y, indx)\n",
    "                \n",
    "    def initialize_weights(self, X, y):\n",
    "        random_wts = []\n",
    "        np.random.seed(3)\n",
    "        layer1 = np.random.normal(0, 1, (X.shape[1], self.hidden_layer_widths[0]))\n",
    "        layer2 = np.random.normal(0, 1, (self.hidden_layer_widths[-1] + 1, y.shape[1]))\n",
    "        random_wts.extend([layer1, layer2])\n",
    "        zero_wts = []\n",
    "        layer3 = np.zeros((X.shape[1], self.hidden_layer_widths[0]))\n",
    "        layer4 = np.zeros((self.hidden_layer_widths[-1] + 1, y.shape[1]))\n",
    "        zero_wts.extend([layer3, layer4])\n",
    "        self.prev_wt_changes = copy.deepcopy(zero_wts)\n",
    "        if self.initial_weights == 'zero':\n",
    "            return zero_wts\n",
    "        else:\n",
    "            return random_wts\n",
    "    \n",
    "    \n",
    "    def calc_node_deltas(self, X, y, indx):\n",
    "        self.delta_o = np.array([])\n",
    "        for i in range(len(y[indx])):\n",
    "            self.delta_o = np.append(self.delta_o, (y[indx][i] - self.z_o[i]) * (self.z_o[i])*(1-self.z_o[i]))\n",
    "        self.delta_h = []\n",
    "        for p in range(len(self.hidden_layer_widths)):\n",
    "            self.delta_h_arr = np.array([])\n",
    "            for i in range(self.hidden_layer_widths[p]):\n",
    "                if p == 0:\n",
    "                    self.delta_h_arr = np.append(self.delta_h_arr, (np.dot(self.delta_o, \n",
    "                                                                           self.weights[-1*(p+1)][i]) *\n",
    "                                                                           (self.z_h[-1*(p+1)][i]) * \n",
    "                                                                           (1 - self.z_h[-1*(p+1)][i])))\n",
    "                else:\n",
    "                    self.delta_h_arr = np.append(self.delta_h_arr, (np.dot(self.delta_h[p-1], \n",
    "                                                                           self.weights[-1*(p+1)][i]) *\n",
    "                                                                           (self.z_h[-1*(p+1)][i]) * \n",
    "                                                                           (1 - self.z_h[-1*(p+1)][i])))\n",
    "            self.delta_h.append(self.delta_h_arr)\n",
    "        self.delta_h.reverse()\n",
    "\n",
    "\n",
    "    def calc_z_o(self, X, y, indx):\n",
    "        net_h = []\n",
    "        z_h = []\n",
    "        for q in range(len(self.hidden_layer_widths)):\n",
    "            net_h_arr = np.array([])\n",
    "            z_h_arr = np.array([])\n",
    "            for i in range(self.hidden_layer_widths[q]):\n",
    "                if q == 0:\n",
    "                    net_h_arr = np.append(net_h_arr, np.dot(X[indx], self.weights[q][:,i]))\n",
    "                else:\n",
    "                    net_h_arr = np.append(net_h_arr, np.dot(z_h, self.weights[q][:,i]))\n",
    "                z_h_arr = np.append(z_h_arr, 1 / (1 + math.exp(-1*(net_h_arr[i]))))\n",
    "            z_h_arr = np.append(z_h_arr, 1) # for bias node\n",
    "            z_h.append(z_h_arr)\n",
    "            net_h.append(net_h_arr)\n",
    "\n",
    "        net_o = np.array([])\n",
    "        for i in range(len(y[indx])):\n",
    "            net_o = np.append(net_o, np.dot(z_h[-1], self.weights[-1][:,i]))\n",
    "\n",
    "        z_o = np.array([])\n",
    "        for i in range(len(net_o)):\n",
    "            z_o = np.append(z_o, 1 / (1 + math.exp(-1*(net_o[i]))))\n",
    "        return z_h, z_o \n",
    "            \n",
    "        \n",
    "    def calc_wt_updates(self, X, y, indx):\n",
    "        self.wt_updates = []\n",
    "        for whole in range(len(self.hidden_layer_widths)+1):\n",
    "            if whole == 0:\n",
    "                layer_updates = np.empty((0, self.hidden_layer_widths[0]))\n",
    "                for outer in range(len(X[indx])):\n",
    "                    row = np.array([])\n",
    "                    for inner in range(self.hidden_layer_widths[0]):\n",
    "                        row = np.append(row, self.lr * self.delta_h[whole][inner] * X[indx][outer])\n",
    "                    layer_updates = np.vstack((layer_updates, row + (self.momentum * \n",
    "                                                                     self.prev_wt_changes[whole][outer])))\n",
    "                self.wt_updates.append(layer_updates)\n",
    "            elif whole == len(self.hidden_layer_widths):\n",
    "                layer_updates = np.empty((0, len(y[0])))\n",
    "                for outer in range(len(self.z_h[whole-1])):\n",
    "                    row = np.array([])\n",
    "                    for inner in range(len(y[0])):\n",
    "                        row = np.append(row, self.lr * self.delta_o[inner] * self.z_h[whole-1][outer])\n",
    "                    layer_updates = np.vstack((layer_updates, row + (self.momentum * \n",
    "                                                                     self.prev_wt_changes[whole][outer])))\n",
    "                self.wt_updates.append(layer_updates)\n",
    "            else:\n",
    "                layer_updates = np.empty((0, self.hidden_layer_widths[whole-1]))\n",
    "                for outer in range(len(self.z_h[whole-1])):\n",
    "                    row = np.array([])\n",
    "                    for inner in range(self.hidden_layer_widths[whole-1]):\n",
    "                        row = np.append(row, self.lr * self.delta_h[whole][inner] * self.z_h[whole-1][outer])\n",
    "                    layer_updates = np.vstack((layer_updates, row + (self.momentum * \n",
    "                                                                     self.prev_wt_changes[whole][outer])))\n",
    "                self.wt_updates.append(layer_updates)  \n",
    "            \n",
    "            \n",
    "    def update_wts(self, X, y, indx):\n",
    "        for i in range(len(self.weights)):\n",
    "            self.weights[i] = self.weights[i] + self.wt_updates[i]\n",
    "        self.prev_wt_changes = self.wt_updates  \n",
    "        \n",
    "        \n",
    "    def predict(self, X, y):\n",
    "        predictions = np.array([])\n",
    "        for i in range(X.shape[0]):\n",
    "            predictions = np.append(predictions, np.argmax(self.calc_z_o(X,y,i)[1]))\n",
    "        return predictions\n",
    "    \n",
    "        \n",
    "    def score(self, X, y):\n",
    "        predictions = self.predict(X, y)\n",
    "        actuals = np.array([])\n",
    "        for i in range(y.shape[0]):\n",
    "            actuals = np.append(actuals, np.argmax(y[i]))\n",
    "        return sum(predictions == actuals) / len(predictions)\n",
    "    \n",
    "    \n",
    "    def mse(self, X, y):\n",
    "        sq_errs = np.array([])\n",
    "        for i in range(X.shape[0]):\n",
    "            sq_errs = np.append(sq_errs, sum((self.calc_z_o(X,y,i)[1]-y[i])**2))\n",
    "        return sq_errs.mean()\n",
    "\n",
    "    \n",
    "    def get_weights(self):\n",
    "        return self.weights\n",
    "    \n",
    "    \n",
    "    def get_val_mse(self):\n",
    "        return self.val_mse\n",
    "    \n",
    "    \n",
    "    def get_train_mse(self):\n",
    "        return self.train_mse\n",
    "    \n",
    "    \n",
    "    def get_train_acc(self):\n",
    "        return self.train_acc\n",
    "    \n",
    "    \n",
    "    def get_val_acc(self):\n",
    "        return self.val_acc\n",
    "    \n",
    "    \n",
    "    def get_final_num_epochs(self):\n",
    "        return self.final_num_epochs"
   ]
  },
  {
   "cell_type": "markdown",
   "metadata": {
    "id": "KibCIXIThpbE"
   },
   "source": [
    "Expected Results for 1 output node:\n",
    "\n",
    "$$ \\text{Layer 1} = \\begin{bmatrix} -8.81779797\\text{e}-05 & -8.81779797\\text{e}-05 & -8.81779797\\text{e}-05 & -8.81779797\\text{e}-05 \\\\ 7.82757731\\text{e}-04 & 7.82757731\\text{e}-04 & 7.82757731\\text{e}-04 & 7.82757731\\text{e}-04 \\\\ -3.94353645\\text{e}-03 & -3.94353645\\text{e}-03 & -3.94353645\\text{e}-03 & -3.94353645\\text{e}-03 \\end{bmatrix}$$\n",
    "                                             \n",
    "$$ \\text{Layer 2} = \\begin{bmatrix} -0.01060888 \\\\ -0.01060888 \\\\ -0.01060888 \\\\ -0.01060888 \\\\ -0.02145495 \\end{bmatrix}$$\n",
    "\n",
    "Expected Results for 2 output nodes:\n",
    "\n",
    "$$ \\text{Layer 1} = \\begin{bmatrix} -0.00018149 & -0.00018149 & -0.00018149 & -0.00018149 \\\\ 0.00157468 & 0.00157468 & 0.00157468 & 0.00157468 \\\\ -0.00788218 & -0.00788218 & -0.00788218 & -0.00788218 \\end{bmatrix}$$\n",
    "                          \n",
    "$$ \\text{Layer 2} = \\begin{bmatrix} 0.01050642 & -0.01050642 \\\\ 0.01050642 & -0.01050642 \\\\ 0.01050642 & -0.01050642 \\\\ 0.01050642 & -0.01050642 \\\\ 0.02148778 & -0.02148778 \\end{bmatrix}$$"
   ]
  },
  {
   "cell_type": "code",
   "execution_count": 7,
   "metadata": {
    "id": "KgAyy82gixIF"
   },
   "outputs": [
    {
     "data": {
      "text/plain": [
       "[array([[-0.00018149, -0.00018149, -0.00018149, -0.00018149],\n",
       "        [ 0.00157468,  0.00157468,  0.00157468,  0.00157468],\n",
       "        [-0.00788218, -0.00788218, -0.00788218, -0.00788218]]),\n",
       " array([[ 0.01050642, -0.01050642],\n",
       "        [ 0.01050642, -0.01050642],\n",
       "        [ 0.01050642, -0.01050642],\n",
       "        [ 0.01050642, -0.01050642],\n",
       "        [ 0.02148778, -0.02148778]])]"
      ]
     },
     "execution_count": 7,
     "metadata": {},
     "output_type": "execute_result"
    }
   ],
   "source": [
    "debug = pd.DataFrame(arff.loadarff('datasets/linsep2nonorigin.arff')[0])\n",
    "debug['class'] = pd.to_numeric(debug['class'].str.decode('utf8'),downcast='float')\n",
    "\n",
    "debug_x = debug.iloc[:,0:-1]\n",
    "debug_x['bias'] = np.ones(len(debug_x))\n",
    "debug_x = np.array(debug_x)\n",
    "\n",
    "# debug_y = np.array(debug.iloc[:,-1]).reshape((len(debug),1)) # 1 output node\n",
    "debug_y = np.array(pd.get_dummies(debug['class'])) # 2 output nodes\n",
    "\n",
    "debug_MLP = MLP(lr=.1, momentum=0.5, shuffle=False, hidden_layer_widths=[4], num_epochs=10, val_size=0)\n",
    "debug_MLP.fit(debug_x, debug_y, 'zero')\n",
    "\n",
    "debug_MLP.get_weights()"
   ]
  },
  {
   "cell_type": "code",
   "execution_count": 8,
   "metadata": {
    "id": "2yAxA78QjDh2"
   },
   "outputs": [
    {
     "data": {
      "text/plain": [
       "[array([[ 1.63828721,  1.63828721,  1.63828721,  1.63828721],\n",
       "        [ 1.09612249,  1.09612249,  1.09612249,  1.09612249],\n",
       "        [ 1.23447594,  1.23447594,  1.23447594,  1.23447594],\n",
       "        [ 0.39269487,  0.39269487,  0.39269487,  0.39269487],\n",
       "        [-2.09316151, -2.09316151, -2.09316151, -2.09316151]]),\n",
       " array([[ 1.81695611, -1.81695611],\n",
       "        [ 1.81695611, -1.81695611],\n",
       "        [ 1.81695611, -1.81695611],\n",
       "        [ 1.81695611, -1.81695611],\n",
       "        [-4.17098071,  4.17098071]])]"
      ]
     },
     "execution_count": 8,
     "metadata": {},
     "output_type": "execute_result"
    }
   ],
   "source": [
    "# Load evaluation data\n",
    "eval = pd.DataFrame(arff.loadarff('datasets/bank.arff')[0])\n",
    "eval['class'] = pd.to_numeric(eval['class'].str.decode('utf8'),downcast='float')\n",
    "\n",
    "eval_x = eval.iloc[:,0:-1]\n",
    "eval_x['bias'] = np.ones(len(eval_x))\n",
    "eval_y = eval.iloc[:,[-1]]\n",
    "\n",
    "eval_x = np.array(eval_x)\n",
    "eval_y = np.array(pd.get_dummies(eval['class']))\n",
    "\n",
    "eval_MLP = MLP(lr=.1, momentum=.5, shuffle=False, hidden_layer_widths=[4], num_epochs=10, val_size=0)\n",
    "eval_MLP.fit(eval_x, eval_y,'zero')\n",
    "\n",
    "eval_MLP.get_weights()"
   ]
  },
  {
   "cell_type": "markdown",
   "metadata": {
    "id": "9vWiTdlbR2Xh"
   },
   "source": [
    "## Neural Network on the Iris Classification problem."
   ]
  },
  {
   "cell_type": "code",
   "execution_count": 9,
   "metadata": {
    "id": "4SSoasDQSKXb"
   },
   "outputs": [
    {
     "data": {
      "image/png": "[encoded data removed]",
      "text/plain": [
       "<Figure size 432x288 with 1 Axes>"
      ]
     },
     "metadata": {
      "needs_background": "light"
     },
     "output_type": "display_data"
    },
    {
     "data": {
      "image/png": "[encoded data removed]",
      "text/plain": [
       "<Figure size 432x288 with 1 Axes>"
      ]
     },
     "metadata": {
      "needs_background": "light"
     },
     "output_type": "display_data"
    },
    {
     "name": "stdout",
     "output_type": "stream",
     "text": [
      "Test Set Accuracy:  0.9333333333333333\n"
     ]
    }
   ],
   "source": [
    "iris = pd.DataFrame(arff.loadarff('datasets/iris.arff')[0])\n",
    "iris['class'] = iris['class'].str.decode('utf8')\n",
    "\n",
    "iris_x = iris.iloc[:,0:-1]\n",
    "iris_x['bias'] = np.ones(len(iris_x))\n",
    "iris_y = pd.get_dummies(iris['class'])\n",
    "iris_x = np.array(iris_x)\n",
    "iris_y = np.array(iris_y)\n",
    "\n",
    "iris_x_train, iris_x_test, iris_y_train, iris_y_test = train_test_split(iris_x, iris_y, test_size=0.2)\n",
    "\n",
    "num_inputs = 2 * (iris_x.shape[1] - 1)\n",
    "iris_MLP = MLP(lr=.1, momentum=0, shuffle=False, hidden_layer_widths=[num_inputs], num_epochs=100, val_size=.15,\n",
    "               no_change_count=20)\n",
    "iris_MLP.fit(iris_x_train, iris_y_train)\n",
    "\n",
    "train_mse = iris_MLP.get_train_mse()\n",
    "val_mse = iris_MLP.get_val_mse()\n",
    "plt.plot(list(range(len(train_mse))),train_mse, val_mse)\n",
    "plt.title('Iris MSE: Training & Validation')\n",
    "plt.legend(['Training', 'Validation'])\n",
    "plt.xlabel('Number of Epochs')\n",
    "plt.xticks(np.arange(0,len(train_mse),5))\n",
    "plt.ylabel('Mean Squared Error')\n",
    "plt.savefig('iris_mse_train_val.jpg', dpi=300, bbox_inches='tight')\n",
    "plt.show()\n",
    "\n",
    "train_acc = iris_MLP.get_train_acc()\n",
    "val_acc = iris_MLP.get_val_acc()\n",
    "plt.plot(list(range(len(train_acc))), train_acc, val_acc)\n",
    "plt.title('Iris Classification Accuracy: Training & Validation')\n",
    "plt.legend(['Training', 'Validation'])\n",
    "plt.xlabel('Number of Epochs')\n",
    "plt.xticks(np.arange(0,len(train_acc),5))\n",
    "plt.yticks(np.arange(0,1,.1))\n",
    "plt.ylabel('Classification Accuracy')\n",
    "plt.savefig('iris_acc_train_val.jpg', dpi=300, bbox_inches='tight')\n",
    "plt.show()\n",
    "\n",
    "print('Test Set Accuracy: ', iris_MLP.score(iris_x_test, iris_y_test))"
   ]
  },
  {
   "cell_type": "markdown",
   "metadata": {
    "id": "SIRG42TgSR4x"
   },
   "source": [
    "## Neural Network on Vowel Dataset"
   ]
  },
  {
   "cell_type": "code",
   "execution_count": 10,
   "metadata": {},
   "outputs": [],
   "source": [
    "vowel = pd.DataFrame(arff.loadarff('datasets/vowel.arff')[0])\n",
    "\n",
    "vowel = vowel.drop('Train or Test', axis=1)\n",
    "vowel = vowel.drop('Speaker Number', axis=1)\n",
    "vowel = vowel.drop('Sex', axis=1)\n",
    "vowel['Class'] = vowel['Class'].str.decode('utf8')\n",
    "\n",
    "vowel = pd.get_dummies(vowel)\n",
    "\n",
    "vowel_x = vowel.iloc[:,0:10]\n",
    "vowel_y = vowel.iloc[:,10:]\n",
    "vowel_x['bias'] = np.ones(len(vowel_x))\n",
    "\n",
    "vowel_x = np.array(vowel_x)\n",
    "vowel_y = np.array(vowel_y)\n",
    "\n",
    "# Use random 80/20 splits of the data for the training/test set.\n",
    "vowel_x_train, vowel_x_test, vowel_y_train, vowel_y_test = train_test_split(vowel_x, vowel_y, test_size=0.2)\n",
    "\n",
    "# Use one layer of hidden nodes with the number of hidden nodes being twice the number of inputs.\n",
    "num_inputs = 2*(vowel_x.shape[1] - 1)"
   ]
  },
  {
   "cell_type": "code",
   "execution_count": 11,
   "metadata": {},
   "outputs": [],
   "source": [
    "vowel_MLP1 = MLP(lr=.05, momentum=0, num_epochs=100, hidden_layer_widths=[num_inputs], val_size=.15, \n",
    "                 no_change_count=100)\n",
    "vowel_MLP1.fit(vowel_x_train, vowel_y_train)\n",
    "val_mse1 = vowel_MLP1.get_val_mse()"
   ]
  },
  {
   "cell_type": "code",
   "execution_count": 12,
   "metadata": {},
   "outputs": [],
   "source": [
    "vowel_MLP2 = MLP(lr=.1,momentum=0, num_epochs=100, hidden_layer_widths=[num_inputs], val_size=.15, \n",
    "                 no_change_count=100)\n",
    "vowel_MLP2.fit(vowel_x_train, vowel_y_train)\n",
    "val_mse2 = vowel_MLP2.get_val_mse()"
   ]
  },
  {
   "cell_type": "code",
   "execution_count": null,
   "metadata": {},
   "outputs": [],
   "source": [
    "vowel_MLP3 = MLP(lr=.2,momentum=0, num_epochs=100, hidden_layer_widths=[num_inputs], val_size=.15, \n",
    "                 no_change_count=100)\n",
    "vowel_MLP3.fit(vowel_x_train, vowel_y_train)\n",
    "val_mse3 = vowel_MLP3.get_val_mse()"
   ]
  },
  {
   "cell_type": "code",
   "execution_count": null,
   "metadata": {},
   "outputs": [],
   "source": [
    "vowel_MLP4 = MLP(lr=.3,momentum=0, num_epochs=100, hidden_layer_widths=[num_inputs], val_size=.15, \n",
    "                 no_change_count=100)\n",
    "vowel_MLP4.fit(vowel_x_train, vowel_y_train)\n",
    "val_mse4 = vowel_MLP4.get_val_mse()"
   ]
  },
  {
   "cell_type": "code",
   "execution_count": null,
   "metadata": {},
   "outputs": [],
   "source": [
    "vowel_MLP5 = MLP(lr=.4,momentum=0, num_epochs=100, hidden_layer_widths=[num_inputs], val_size=.15, \n",
    "                 no_change_count=100)\n",
    "vowel_MLP5.fit(vowel_x_train, vowel_y_train)\n",
    "val_mse5 = vowel_MLP5.get_val_mse()"
   ]
  },
  {
   "cell_type": "code",
   "execution_count": null,
   "metadata": {},
   "outputs": [],
   "source": [
    "vowel_MLP6 = MLP(lr=.5,momentum=0, num_epochs=100, hidden_layer_widths=[num_inputs], val_size=.15, \n",
    "                 no_change_count=100)\n",
    "vowel_MLP6.fit(vowel_x_train, vowel_y_train)\n",
    "val_mse6 = vowel_MLP6.get_val_mse()"
   ]
  },
  {
   "cell_type": "code",
   "execution_count": null,
   "metadata": {},
   "outputs": [],
   "source": [
    "vowel_MLP7 = MLP(lr=.6,momentum=0, num_epochs=100, hidden_layer_widths=[num_inputs], val_size=.15, \n",
    "                 no_change_count=100)\n",
    "vowel_MLP7.fit(vowel_x_train, vowel_y_train)\n",
    "val_mse7 = vowel_MLP7.get_val_mse()"
   ]
  },
  {
   "cell_type": "code",
   "execution_count": null,
   "metadata": {},
   "outputs": [
    {
     "data": {
      "image/png": "[encoded data removed]",
      "text/plain": [
       "<Figure size 432x288 with 1 Axes>"
      ]
     },
     "metadata": {
      "needs_background": "light"
     },
     "output_type": "display_data"
    }
   ],
   "source": [
    "val_mse = [val_mse1, val_mse2, val_mse3, val_mse4, val_mse5, val_mse6, val_mse7]\n",
    "len_val_mse = [len(val_mse1), len(val_mse2), len(val_mse3), len(val_mse4), len(val_mse5), len(val_mse6), \n",
    "               len(val_mse7)]\n",
    "tmp = list(range(len(val_mse[np.argmax(len_val_mse)])))\n",
    "\n",
    "for val in val_mse:\n",
    "    plt.plot(val)\n",
    "plt.title('Vowel: Validation Set MSE vs. Num. Epochs')\n",
    "plt.legend(['lr=.05', 'lr=.1', 'lr=.2', 'lr=.3', 'lr=.4', 'lr=.5', 'lr=.6'])\n",
    "plt.xlabel('Number of Epochs')\n",
    "plt.xticks(np.arange(0,len(tmp),10))\n",
    "plt.ylabel('Validation MSE')\n",
    "plt.savefig('vowel_val_mse_epochs.jpg', dpi=300, bbox_inches='tight')"
   ]
  },
  {
   "cell_type": "code",
   "execution_count": null,
   "metadata": {},
   "outputs": [
    {
     "name": "stdout",
     "output_type": "stream",
     "text": [
      "Lowest Validation MSE with lr: 0.5 with MSE:  0.25119989125036235\n"
     ]
    }
   ],
   "source": [
    "min_val_mse = [min(val_mse1), min(val_mse2), min(val_mse3), min(val_mse4), min(val_mse5), min(val_mse6),\n",
    "              min(val_mse7)]\n",
    "lr_list = [.05, .1, .2, .3, .4, .5, .6]\n",
    "\n",
    "print('Lowest Validation MSE with lr:', lr_list[np.argmin(min_val_mse)], 'with MSE: ', \n",
    "      min_val_mse[np.argmin(min_val_mse)])"
   ]
  },
  {
   "cell_type": "code",
   "execution_count": 473,
   "metadata": {},
   "outputs": [
    {
     "name": "stdout",
     "output_type": "stream",
     "text": [
      "Test Accuracy:  0.5959595959595959\n"
     ]
    }
   ],
   "source": [
    "print('Test Accuracy: ', vowel_MLP7.score(vowel_x_test, vowel_y_test))"
   ]
  },
  {
   "cell_type": "markdown",
   "metadata": {
    "id": "mOteTlV6S0bq"
   },
   "source": [
    "## 3.1 (5%) Working with the Vowel Dataset - Intuition"
   ]
  },
  {
   "cell_type": "markdown",
   "metadata": {
    "id": "qmq9GSbJS8k2"
   },
   "source": [
    "The vowel dataset is a dataset of 10,000 samples of 12 features. The features are the 12 formant frequencies of the vowels. The labels are the 11 vowels. The dataset is available at [https://raw.githubusercontent.com/cs472ta/CS472/master/datasets/vowel.arff](https://raw.githubusercontent.com/cs472ta/CS472/master/datasets/vowel.arff)\n",
    "Varying learning rates shows how audacious the model is in adjusting its weights. Low learning rate means that the model is taking small steps each time; large learning rate, on the other hand, means the model is taking large steps each time.\n",
    "\n",
    "#### Vowel harder than Banknote\n",
    "For one, the vowel data set has much more input features and output features; thus, there's just more to learn. For two, the vowel dataset doesn't have extremely clear predictable patterns like the iris dataset has. There's more noise in the data, so it's more difficult for the model to adjust weights to find the perfect match.\n",
    "\n",
    "##### VOWEL\n",
    "baseline: 24%\n",
    "best test: 62% is the highest test accuracy I achieved.\n",
    "\n",
    "##### IRIS\n",
    "baseline: 60%\n",
    "best test: 100% is the highets test accuracy I achieved.\n",
    "\n",
    "\n",
    "I dropped the 3 that are mentioned above (Train/test, speaker, gender) because they all didn't seem to be releveant in predicting the output. The one that was questionable was the gender, but the speaker and train/test were for sure not good at helping us predict the vowel sound output."
   ]
  },
  {
   "cell_type": "markdown",
   "metadata": {
    "id": "SIRG42TgSR4x"
   },
   "source": [
    "## Vowel Dataset - Multi-layered\n"
   ]
  },
  {
   "cell_type": "code",
   "execution_count": 73,
   "metadata": {},
   "outputs": [],
   "source": [
    "vowel_MLP_hl_1 = MLP(lr=.6, momentum=0, num_epochs=50, hidden_layer_widths=[1], val_size=.15, no_change_count=5)\n",
    "vowel_MLP_hl_1.fit(vowel_x_train, vowel_y_train)\n",
    "val_mse_h1_1 = vowel_MLP_hl_1.get_val_mse()\n",
    "train_mse_hl_1 = vowel_MLP_hl_1.get_train_mse()\n",
    "test_acc_h1_1 = vowel_MLP_hl_1.score(vowel_x_test, vowel_y_test)"
   ]
  },
  {
   "cell_type": "code",
   "execution_count": 74,
   "metadata": {},
   "outputs": [],
   "source": [
    "vowel_MLP_hl_2 = MLP(lr=.6, momentum=0, num_epochs=50, hidden_layer_widths=[2], val_size=.15, no_change_count=5)\n",
    "vowel_MLP_hl_2.fit(vowel_x_train, vowel_y_train)\n",
    "val_mse_hl_2 = vowel_MLP_hl_2.get_val_mse()\n",
    "train_mse_hl_2 = vowel_MLP_hl_2.get_train_mse()\n",
    "test_acc_hl_2 = vowel_MLP_hl_2.score(vowel_x_test, vowel_y_test)"
   ]
  },
  {
   "cell_type": "code",
   "execution_count": 75,
   "metadata": {},
   "outputs": [],
   "source": [
    "vowel_MLP_hl_3 = MLP(lr=.6, momentum=0, num_epochs=50, hidden_layer_widths=[4], val_size=.15, no_change_count=5)\n",
    "vowel_MLP_hl_3.fit(vowel_x_train, vowel_y_train)\n",
    "val_mse_hl_3 = vowel_MLP_hl_3.get_val_mse()\n",
    "train_mse_hl_3 = vowel_MLP_hl_3.get_train_mse()\n",
    "test_acc_hl_3 = vowel_MLP_hl_3.score(vowel_x_test, vowel_y_test)"
   ]
  },
  {
   "cell_type": "code",
   "execution_count": 76,
   "metadata": {},
   "outputs": [],
   "source": [
    "vowel_MLP_hl_4 = MLP(lr=.6, momentum=0, num_epochs=50, hidden_layer_widths=[8], val_size=.15, no_change_count=5)\n",
    "vowel_MLP_hl_4.fit(vowel_x_train, vowel_y_train)\n",
    "val_mse_h1_4 = vowel_MLP_hl_4.get_val_mse()\n",
    "train_mse_hl_4 = vowel_MLP_hl_4.get_train_mse()\n",
    "test_acc_h1_4 = vowel_MLP_hl_4.score(vowel_x_test, vowel_y_test)"
   ]
  },
  {
   "cell_type": "code",
   "execution_count": 77,
   "metadata": {},
   "outputs": [],
   "source": [
    "vowel_MLP_hl_5 = MLP(lr=.6, momentum=0, num_epochs=50, hidden_layer_widths=[16], val_size=.15, no_change_count=5)\n",
    "vowel_MLP_hl_5.fit(vowel_x_train, vowel_y_train)\n",
    "val_mse_h1_5 = vowel_MLP_hl_5.get_val_mse()\n",
    "train_mse_hl_5 = vowel_MLP_hl_5.get_train_mse()\n",
    "test_acc_h1_5 = vowel_MLP_hl_5.score(vowel_x_test, vowel_y_test)"
   ]
  },
  {
   "cell_type": "code",
   "execution_count": 78,
   "metadata": {},
   "outputs": [],
   "source": [
    "vowel_MLP_hl_6 = MLP(lr=.6, momentum=0, num_epochs=50, hidden_layer_widths=[32], val_size=.15, no_change_count=5)\n",
    "vowel_MLP_hl_6.fit(vowel_x_train, vowel_y_train)\n",
    "val_mse_h1_6 = vowel_MLP_hl_6.get_val_mse()\n",
    "train_mse_hl_6 = vowel_MLP_hl_6.get_train_mse()\n",
    "test_acc_h1_6 = vowel_MLP_hl_6.score(vowel_x_test, vowel_y_test)"
   ]
  },
  {
   "cell_type": "code",
   "execution_count": 79,
   "metadata": {},
   "outputs": [],
   "source": [
    "vowel_MLP_hl_7 = MLP(lr=.6, momentum=0, num_epochs=50, hidden_layer_widths=[64], val_size=.15, no_change_count=5)\n",
    "vowel_MLP_hl_7.fit(vowel_x_train, vowel_y_train)\n",
    "val_mse_h1_7 = vowel_MLP_hl_7.get_val_mse()\n",
    "train_mse_hl_7 = vowel_MLP_hl_7.get_train_mse()\n",
    "test_acc_h1_7 = vowel_MLP_hl_7.score(vowel_x_test, vowel_y_test)"
   ]
  },
  {
   "cell_type": "code",
   "execution_count": 80,
   "metadata": {},
   "outputs": [],
   "source": [
    "vowel_MLP_hl_8 = MLP(lr=.6, momentum=0, num_epochs=50, hidden_layer_widths=[128], val_size=.15, no_change_count=5)\n",
    "vowel_MLP_hl_8.fit(vowel_x_train, vowel_y_train)\n",
    "val_mse_hl_8 = vowel_MLP_hl_8.get_val_mse()\n",
    "train_mse_hl_8 = vowel_MLP_hl_8.get_train_mse()\n",
    "test_acc_hl_8 = vowel_MLP_hl_8.score(vowel_x_test, vowel_y_test)"
   ]
  },
  {
   "cell_type": "code",
   "execution_count": 453,
   "metadata": {},
   "outputs": [
    {
     "name": "stdout",
     "output_type": "stream",
     "text": [
      "The  7 'th model did best with highest accuracy:  0.6212121212121212\n"
     ]
    },
    {
     "data": {
      "text/html": [
       "<div>\n",
       "<style scoped>\n",
       "    .dataframe tbody tr th:only-of-type {\n",
       "        vertical-align: middle;\n",
       "    }\n",
       "\n",
       "    .dataframe tbody tr th {\n",
       "        vertical-align: top;\n",
       "    }\n",
       "\n",
       "    .dataframe thead th {\n",
       "        text-align: right;\n",
       "    }\n",
       "</style>\n",
       "<table border=\"1\" class=\"dataframe\">\n",
       "  <thead>\n",
       "    <tr style=\"text-align: right;\">\n",
       "      <th></th>\n",
       "      <th>Hidden Nodes</th>\n",
       "      <th>Test Accuracy</th>\n",
       "    </tr>\n",
       "  </thead>\n",
       "  <tbody>\n",
       "    <tr>\n",
       "      <th>0</th>\n",
       "      <td>1.0</td>\n",
       "      <td>0.070707</td>\n",
       "    </tr>\n",
       "    <tr>\n",
       "      <th>1</th>\n",
       "      <td>2.0</td>\n",
       "      <td>0.111111</td>\n",
       "    </tr>\n",
       "    <tr>\n",
       "      <th>2</th>\n",
       "      <td>4.0</td>\n",
       "      <td>0.202020</td>\n",
       "    </tr>\n",
       "    <tr>\n",
       "      <th>3</th>\n",
       "      <td>8.0</td>\n",
       "      <td>0.378788</td>\n",
       "    </tr>\n",
       "    <tr>\n",
       "      <th>4</th>\n",
       "      <td>16.0</td>\n",
       "      <td>0.409091</td>\n",
       "    </tr>\n",
       "    <tr>\n",
       "      <th>5</th>\n",
       "      <td>32.0</td>\n",
       "      <td>0.520202</td>\n",
       "    </tr>\n",
       "    <tr>\n",
       "      <th>6</th>\n",
       "      <td>64.0</td>\n",
       "      <td>0.621212</td>\n",
       "    </tr>\n",
       "    <tr>\n",
       "      <th>7</th>\n",
       "      <td>128.0</td>\n",
       "      <td>0.262626</td>\n",
       "    </tr>\n",
       "  </tbody>\n",
       "</table>\n",
       "</div>"
      ],
      "text/plain": [
       "   Hidden Nodes  Test Accuracy\n",
       "0           1.0       0.070707\n",
       "1           2.0       0.111111\n",
       "2           4.0       0.202020\n",
       "3           8.0       0.378788\n",
       "4          16.0       0.409091\n",
       "5          32.0       0.520202\n",
       "6          64.0       0.621212\n",
       "7         128.0       0.262626"
      ]
     },
     "execution_count": 453,
     "metadata": {},
     "output_type": "execute_result"
    }
   ],
   "source": [
    "test_acc_list = np.array([test_acc_h1_1, test_acc_hl_2, test_acc_hl_3, test_acc_h1_4, test_acc_h1_5,\n",
    "                          test_acc_h1_6, test_acc_h1_7, test_acc_hl_8])\n",
    "print('The ',np.argmax(test_acc_list)+1,'\\'th model did best with highest accuracy: ', \n",
    "      test_acc_list[np.argmax(test_acc_list)])\n",
    "num_hid_nodes = 2 ** np.arange(8)\n",
    "\n",
    "df = pd.DataFrame(np.column_stack((num_hid_nodes, test_acc_list)), columns = ['Hidden Nodes', 'Test Accuracy'])\n",
    "df"
   ]
  },
  {
   "cell_type": "code",
   "execution_count": 382,
   "metadata": {},
   "outputs": [
    {
     "name": "stdout",
     "output_type": "stream",
     "text": [
      "Lowest MSE was with 64 hidden nodes with MSE:  0.511413158806552\n"
     ]
    },
    {
     "data": {
      "image/png": "[encoded data removed]",
      "text/plain": [
       "<Figure size 432x288 with 1 Axes>"
      ]
     },
     "metadata": {
      "needs_background": "light"
     },
     "output_type": "display_data"
    }
   ],
   "source": [
    "val_mse_min_list = [min(val_mse_h1_1), min(val_mse_hl_2), min(val_mse_hl_3), min(val_mse_h1_4),\n",
    "                    min(val_mse_h1_5), min(val_mse_h1_6), min(val_mse_h1_7), min(val_mse_hl_8)]\n",
    "\n",
    "num_hidden_nds = 2**np.arange(8)\n",
    "\n",
    "train_mse_min_list = [min(train_mse_hl_1), min(train_mse_hl_2), min(train_mse_hl_3), min(train_mse_hl_4),\n",
    "                      min(train_mse_hl_5), min(train_mse_hl_6), min(train_mse_hl_7), min(train_mse_hl_8)]\n",
    "\n",
    "print('Lowest MSE was with', num_hidden_nds[np.argmin(val_mse_min_list)],'hidden nodes with MSE: ',\n",
    "      val_mse_min_list[np.argmin(val_mse_min_list)])\n",
    "\n",
    "hidden_nodes_vs_val_mse = []\n",
    "hidden_nodes_vs_train_mse = []\n",
    "for i in range(len(val_mse_min_list)):\n",
    "    num_hidden_nodes = 2**i\n",
    "    hidden_nodes_vs_val_mse.append((num_hidden_nodes, val_mse_min_list[i]))\n",
    "    hidden_nodes_vs_train_mse.append((num_hidden_nodes, train_mse_min_list[i]))\n",
    "    \n",
    "hidden_nodes, val_mses = zip(*hidden_nodes_vs_val_mse)\n",
    "hidden_nodes, train_mses = zip(*hidden_nodes_vs_train_mse)\n",
    "plt.plot(hidden_nodes, val_mses)\n",
    "plt.plot(hidden_nodes, train_mses)\n",
    "plt.legend(['Validation', 'Training'])\n",
    "plt.title('Vowel: Number of Epochs & Validation MSE')\n",
    "plt.xlabel('Number of Hidden Nodes')\n",
    "plt.ylabel('MSE')\n",
    "plt.savefig('vowel_epochs_val_mse.jpg', dpi=300, bbox_inches='tight')\n",
    "plt.show()"
   ]
  },
  {
   "cell_type": "markdown",
   "metadata": {
    "id": "qmq9GSbJS8k2"
   },
   "source": [
    "My test accuarcy slowly climbed as I raised the number of hidden nodes in the one hidden layer that I was using. That was until I doubled the nodes and reached 128 hidden nodes. At which point, the accuracy dropped steeply. Thus the optimal number of hidden nodes (in powers of 2) is 64."
   ]
  },
  {
   "cell_type": "markdown",
   "metadata": {
    "id": "SIRG42TgSR4x"
   },
   "source": [
    "## Vowel Dataset - Momentum"
   ]
  },
  {
   "cell_type": "code",
   "execution_count": 474,
   "metadata": {},
   "outputs": [
    {
     "name": "stdout",
     "output_type": "stream",
     "text": [
      "time to complete: 39.16600799560547\n"
     ]
    }
   ],
   "source": [
    "vowel_MLP_mom_1 = MLP(lr=.6, momentum=0, num_epochs=100, hidden_layer_widths=[64], val_size=.15, \n",
    "                      no_change_count=5)\n",
    "t1 = time.time()\n",
    "vowel_MLP_mom_1.fit(vowel_x_train, vowel_y_train)\n",
    "t2 = time.time()\n",
    "val_mse_mom_1 = vowel_MLP_mom_1.get_val_mse()\n",
    "train_mse_mom_1 = vowel_MLP_mom_1.get_train_mse()\n",
    "test_acc_mom_1 = vowel_MLP_mom_1.score(vowel_x_test, vowel_y_test)\n",
    "num_epochs_till_converge_1 = vowel_MLP_mom_1.get_final_num_epochs()\n",
    "print('time to complete:', t2-t1)"
   ]
  },
  {
   "cell_type": "code",
   "execution_count": 487,
   "metadata": {},
   "outputs": [],
   "source": [
    "vowel_MLP_mom_2 = MLP(lr=.6, momentum=0.2, num_epochs=100, hidden_layer_widths=[64], val_size=.15, \n",
    "                      no_change_count=5)\n",
    "vowel_MLP_mom_2.fit(vowel_x_train, vowel_y_train)\n",
    "val_mse_mom_2 = vowel_MLP_mom_2.get_val_mse()\n",
    "train_mse_mom_2 = vowel_MLP_mom_2.get_train_mse()\n",
    "test_acc_mom_2 = vowel_MLP_mom_2.score(vowel_x_test, vowel_y_test)\n",
    "num_epochs_till_converge_2 = vowel_MLP_mom_2.get_final_num_epochs()"
   ]
  },
  {
   "cell_type": "code",
   "execution_count": 488,
   "metadata": {},
   "outputs": [],
   "source": [
    "vowel_MLP_mom_3 = MLP(lr=.6, momentum=0.4, num_epochs=100, hidden_layer_widths=[64], val_size=.15, \n",
    "                      no_change_count=5)\n",
    "vowel_MLP_mom_3.fit(vowel_x_train, vowel_y_train)\n",
    "val_mse_mom_3 = vowel_MLP_mom_3.get_val_mse()\n",
    "train_mse_mom_3 = vowel_MLP_mom_3.get_train_mse()\n",
    "test_acc_mom_3 = vowel_MLP_mom_3.score(vowel_x_test, vowel_y_test)\n",
    "num_epochs_till_converge_3 = vowel_MLP_mom_3.get_final_num_epochs()"
   ]
  },
  {
   "cell_type": "code",
   "execution_count": 489,
   "metadata": {},
   "outputs": [],
   "source": [
    "vowel_MLP_mom_4 = MLP(lr=.6, momentum=0.6, num_epochs=100, hidden_layer_widths=[64], val_size=.15, \n",
    "                      no_change_count=5)\n",
    "vowel_MLP_mom_4.fit(vowel_x_train, vowel_y_train)\n",
    "val_mse_mom_4 = vowel_MLP_mom_4.get_val_mse()\n",
    "train_mse_mom_4 = vowel_MLP_mom_4.get_train_mse()\n",
    "test_acc_mom_4 = vowel_MLP_mom_4.score(vowel_x_test, vowel_y_test)\n",
    "num_epochs_till_converge_4 = vowel_MLP_mom_4.get_final_num_epochs()"
   ]
  },
  {
   "cell_type": "code",
   "execution_count": 490,
   "metadata": {},
   "outputs": [],
   "source": [
    "vowel_MLP_mom_5 = MLP(lr=.6, momentum=0.8, num_epochs=100, hidden_layer_widths=[64], val_size=.15, \n",
    "                      no_change_count=5)\n",
    "vowel_MLP_mom_5.fit(vowel_x_train, vowel_y_train)\n",
    "val_mse_mom_5 = vowel_MLP_mom_5.get_val_mse()\n",
    "train_mse_mom_5 = vowel_MLP_mom_5.get_train_mse()\n",
    "test_acc_mom_5 = vowel_MLP_mom_5.score(vowel_x_test, vowel_y_test)\n",
    "num_epochs_till_converge_5 = vowel_MLP_mom_5.get_final_num_epochs()"
   ]
  },
  {
   "cell_type": "code",
   "execution_count": 491,
   "metadata": {},
   "outputs": [
    {
     "name": "stdout",
     "output_type": "stream",
     "text": [
      "The  3 'st model did best with highest accuracy: 0.4595959595959596\n"
     ]
    },
    {
     "data": {
      "text/html": [
       "<div>\n",
       "<style scoped>\n",
       "    .dataframe tbody tr th:only-of-type {\n",
       "        vertical-align: middle;\n",
       "    }\n",
       "\n",
       "    .dataframe tbody tr th {\n",
       "        vertical-align: top;\n",
       "    }\n",
       "\n",
       "    .dataframe thead th {\n",
       "        text-align: right;\n",
       "    }\n",
       "</style>\n",
       "<table border=\"1\" class=\"dataframe\">\n",
       "  <thead>\n",
       "    <tr style=\"text-align: right;\">\n",
       "      <th></th>\n",
       "      <th>momentum_term</th>\n",
       "      <th>accuracy</th>\n",
       "    </tr>\n",
       "  </thead>\n",
       "  <tbody>\n",
       "    <tr>\n",
       "      <th>0</th>\n",
       "      <td>0.0</td>\n",
       "      <td>0.424242</td>\n",
       "    </tr>\n",
       "    <tr>\n",
       "      <th>1</th>\n",
       "      <td>0.2</td>\n",
       "      <td>0.439394</td>\n",
       "    </tr>\n",
       "    <tr>\n",
       "      <th>2</th>\n",
       "      <td>0.4</td>\n",
       "      <td>0.459596</td>\n",
       "    </tr>\n",
       "    <tr>\n",
       "      <th>3</th>\n",
       "      <td>0.6</td>\n",
       "      <td>0.373737</td>\n",
       "    </tr>\n",
       "    <tr>\n",
       "      <th>4</th>\n",
       "      <td>0.8</td>\n",
       "      <td>0.085859</td>\n",
       "    </tr>\n",
       "  </tbody>\n",
       "</table>\n",
       "</div>"
      ],
      "text/plain": [
       "   momentum_term  accuracy\n",
       "0            0.0  0.424242\n",
       "1            0.2  0.439394\n",
       "2            0.4  0.459596\n",
       "3            0.6  0.373737\n",
       "4            0.8  0.085859"
      ]
     },
     "execution_count": 491,
     "metadata": {},
     "output_type": "execute_result"
    }
   ],
   "source": [
    "test_acc_mom_list = np.array([test_acc_mom_1, test_acc_mom_2, test_acc_mom_3, test_acc_mom_4, test_acc_mom_5])\n",
    "print('The ',np.argmax(test_acc_mom_list)+1,'\\'st model did best with highest accuracy:',\n",
    "      test_acc_mom_list[np.argmax(test_acc_mom_list)])\n",
    "momentum_term = np.arange(0,1,.2)\n",
    "\n",
    "df = pd.DataFrame(np.column_stack((momentum_term, test_acc_mom_list)), columns = ['momentum_term', 'accuracy'])\n",
    "df"
   ]
  },
  {
   "cell_type": "code",
   "execution_count": 492,
   "metadata": {},
   "outputs": [
    {
     "data": {
      "image/png": "[encoded data removed]",
      "text/plain": [
       "<Figure size 432x288 with 1 Axes>"
      ]
     },
     "metadata": {
      "needs_background": "light"
     },
     "output_type": "display_data"
    }
   ],
   "source": [
    "final_num_epochs = [num_epochs_till_converge_1, num_epochs_till_converge_2, num_epochs_till_converge_3,\n",
    "                    num_epochs_till_converge_4, num_epochs_till_converge_5]\n",
    "\n",
    "momentum_vs_final_num_epochs = []\n",
    "for i in range(len(final_num_epochs)):\n",
    "    momentum_term = ((i+1)*.2)\n",
    "    momentum_vs_final_num_epochs.append((momentum_term, final_num_epochs[i]))\n",
    "    \n",
    "momentum_term, num_epochs = zip(*momentum_vs_final_num_epochs)\n",
    "plt.plot(momentum_term, num_epochs)\n",
    "plt.legend(['Validation'])\n",
    "plt.title('Vowel: Number of Epochs & Momentum')\n",
    "plt.xlabel('Momentum')\n",
    "plt.ylabel('Number of Epochs Till Convergence')\n",
    "plt.savefig('vowel_epochs_to_converge.jpg', dpi=300, bbox_inches='tight')\n",
    "plt.show()"
   ]
  },
  {
   "cell_type": "markdown",
   "metadata": {
    "id": "qmq9GSbJS8k2"
   },
   "source": [
    "Momentum, in short, determines how much the current weight updates should consider the past weight updates in its decision for how much to change the weights. If the last one is to be heavily considered, then a high momentum coefficient is put into the model. For me, I found that the best momentum coefficient for accuracy was 0, but the best momentum coefficient for convergence was .8."
   ]
  },
  {
   "cell_type": "markdown",
   "metadata": {
    "id": "oBBmeNQ7jvcQ"
   },
   "source": [
    "## Compared to Scikit-learn"
   ]
  },
  {
   "cell_type": "code",
   "execution_count": 477,
   "metadata": {
    "id": "OFQv70W2VyqJ"
   },
   "outputs": [
    {
     "name": "stdout",
     "output_type": "stream",
     "text": [
      "iris score:  0.8\n",
      "iris training time:  0.09916186332702637\n"
     ]
    }
   ],
   "source": [
    "# Default Values Iris\n",
    "irisMLP = MLPClassifier(hidden_layer_sizes=(100), activation='relu', solver='adam', learning_rate_init=.001, \n",
    "                      max_iter=200, momentum=.09, nesterovs_momentum=True, early_stopping=False)\n",
    "\n",
    "t1 = time.time()\n",
    "irisMLP.fit(iris_x_train, iris_y_train)\n",
    "t2 = time.time()\n",
    "\n",
    "print('iris score: ', irisMLP.score(iris_x_test, iris_y_test))\n",
    "print('iris training time: ', t2-t1)"
   ]
  },
  {
   "cell_type": "code",
   "execution_count": 486,
   "metadata": {},
   "outputs": [
    {
     "name": "stdout",
     "output_type": "stream",
     "text": [
      "vowel score:  0.35858585858585856\n",
      "vowel training time:  0.4295389652252197\n"
     ]
    }
   ],
   "source": [
    "# Default Values Vowel\n",
    "vowelMLP = MLPClassifier(hidden_layer_sizes=(100), activation='relu', solver='adam', learning_rate_init=.001, \n",
    "                      max_iter=200, momentum=.9, nesterovs_momentum=True, early_stopping=False)\n",
    "\n",
    "t1 = time.time()\n",
    "vowelMLP.fit(vowel_x_train, vowel_y_train)\n",
    "t2 = time.time()\n",
    "\n",
    "print('vowel score: ', vowelMLP.score(vowel_x_test, vowel_y_test))\n",
    "print('vowel training time: ', t2-t1)"
   ]
  },
  {
   "cell_type": "code",
   "execution_count": 398,
   "metadata": {},
   "outputs": [
    {
     "name": "stdout",
     "output_type": "stream",
     "text": [
      "tweaked iris score:  1.0\n",
      "tweaked iris training time:  0.4317467212677002\n"
     ]
    }
   ],
   "source": [
    "# Tweaked Values Iris\n",
    "irisMLP = MLPClassifier(hidden_layer_sizes=(100, 100), activation='relu', solver='adam', learning_rate_init=.001, \n",
    "                      max_iter=4000, momentum=.9, nesterovs_momentum=True, early_stopping=False)\n",
    "\n",
    "t1 = time.time()\n",
    "irisMLP.fit(iris_x_train, iris_y_train)\n",
    "t2 = time.time()\n",
    "\n",
    "print('tweaked iris score: ', irisMLP.score(iris_x_test, iris_y_test))\n",
    "print('tweaked iris training time: ', t2-t1)"
   ]
  },
  {
   "cell_type": "code",
   "execution_count": 399,
   "metadata": {},
   "outputs": [
    {
     "name": "stdout",
     "output_type": "stream",
     "text": [
      "tweaked vowel score:  0.9545454545454546\n",
      "tweaked vowel training time:  5.740313768386841\n"
     ]
    }
   ],
   "source": [
    "# Tweaked Values Vowel\n",
    "vowelMLP = MLPClassifier(hidden_layer_sizes=(100, 100), activation='tanh', solver='adam', \n",
    "                         learning_rate_init=.001, max_iter=4000, momentum=.09, nesterovs_momentum=False,\n",
    "                         early_stopping=False)\n",
    "\n",
    "t1 = time.time()\n",
    "vowelMLP.fit(vowel_x_train, vowel_y_train)\n",
    "t2 = time.time()\n",
    "\n",
    "print('tweaked vowel score: ', vowelMLP.score(vowel_x_test, vowel_y_test))\n",
    "print('tweaked vowel training time: ', t2-t1)"
   ]
  },
  {
   "cell_type": "markdown",
   "metadata": {
    "id": "BqSFAXwlk3Ms"
   },
   "source": [
    "For starters, the sklearn MLPClassifier is remarkably faster than my MLP class. That should almost go without saying, of course. But all in all the accuracies that it is getting through successive runs is similar to the accuracies that I was getting. I'm sure there are more things going on under the hood, but their model is very fast and accurate."
   ]
  },
  {
   "cell_type": "markdown",
   "metadata": {
    "id": "oBBmeNQ7jvcQ"
   },
   "source": [
    "## 4.2 Grid / Random Search for HPO"
   ]
  },
  {
   "cell_type": "code",
   "execution_count": 400,
   "metadata": {
    "id": "OFQv70W2VyqJ"
   },
   "outputs": [
    {
     "name": "stdout",
     "output_type": "stream",
     "text": [
      "ROUND 1\n",
      "hidden_layer_sizes: 50\n",
      "activation: logistic\n",
      "solver: adam\n",
      "learning_rate: 0.0015\n",
      "max_iter: 800\n",
      "momentum: 0.5\n",
      "nesterovs_momentum: True\n",
      "early_stopping: False\n",
      "score: 1.0\n",
      "training time: 0.23274803161621094 \n",
      "\n",
      "ROUND 2\n",
      "hidden_layer_sizes: 100\n",
      "activation: relu\n",
      "solver: adam\n",
      "learning_rate: 0.001\n",
      "max_iter: 900\n",
      "momentum: 0.6\n",
      "nesterovs_momentum: True\n",
      "early_stopping: False\n",
      "score: 1.0\n",
      "training time: 0.2457718849182129 \n",
      "\n",
      "ROUND 3\n",
      "hidden_layer_sizes: 100\n",
      "activation: relu\n",
      "solver: lbfgs\n",
      "learning_rate: 0.002\n",
      "max_iter: 500\n",
      "momentum: 0.7\n",
      "nesterovs_momentum: True\n",
      "early_stopping: False\n",
      "score: 0.9666666666666667\n",
      "training time: 0.11307716369628906 \n",
      "\n",
      "ROUND 4\n",
      "hidden_layer_sizes: 40\n",
      "activation: tanh\n",
      "solver: sgd\n",
      "learning_rate: 0.002\n",
      "max_iter: 200\n",
      "momentum: 0.9\n",
      "nesterovs_momentum: True\n",
      "early_stopping: False\n",
      "score: 0.5666666666666667\n",
      "training time: 0.05079174041748047 \n",
      "\n"
     ]
    }
   ],
   "source": [
    "# Potential Values\n",
    "hidden_layer_sizes = np.arange(10,110,10)\n",
    "activation = np.array(['identity', 'logistic', 'tanh', 'relu'])\n",
    "solver = np.array(['lbfgs', 'sgd', 'adam'])\n",
    "learning_rate = np.array([.001, .002, .0015, .0025])\n",
    "max_iter = np.arange(200, 1000, 100)\n",
    "momentum = np.array([.5, .6, .7, .8, .9])\n",
    "nesterovs_momentum = np.array(['False', 'True'])\n",
    "early_stopping = np.array(['False', 'True'])\n",
    "\n",
    "\n",
    "for i in range(4):\n",
    "    \n",
    "    print('ROUND', i+1)\n",
    "    \n",
    "    tmp_hidden_layer_sizes = np.random.choice(hidden_layer_sizes)\n",
    "    tmp_activation = np.random.choice(activation)\n",
    "    tmp_solver = np.random.choice(solver)\n",
    "    tmp_learning_rate = np.random.choice(learning_rate)\n",
    "    tmp_max_iter = np.random.choice(max_iter)\n",
    "    tmp_momentum = np.random.choice(momentum)\n",
    "    tmp_nesterovs_momentum = np.random.choice(nesterovs_momentum)\n",
    "    tmp_early_stopping = np.random.choice(early_stopping)\n",
    "    \n",
    "    myMLP = MLPClassifier(hidden_layer_sizes=(tmp_hidden_layer_sizes), activation=tmp_activation, \n",
    "                          solver=tmp_solver, learning_rate_init=tmp_learning_rate, max_iter=tmp_max_iter,\n",
    "                          momentum=tmp_momentum, nesterovs_momentum=False, \n",
    "                          early_stopping=False)\n",
    "    \n",
    "    t1 = time.time()\n",
    "    myMLP.fit(iris_x_train, iris_y_train)\n",
    "    t2 = time.time()\n",
    "    \n",
    "    print('hidden_layer_sizes:', tmp_hidden_layer_sizes)\n",
    "    print('activation:', tmp_activation)\n",
    "    print('solver:', tmp_solver)\n",
    "    print('learning_rate:', tmp_learning_rate)\n",
    "    print('max_iter:', tmp_max_iter)\n",
    "    print('momentum:', tmp_momentum)\n",
    "    print('nesterovs_momentum:', True)\n",
    "    print('early_stopping:', False)\n",
    "    print('score:', myMLP.score(iris_x_test, iris_y_test))\n",
    "    print('training time:', t2-t1, '\\n')"
   ]
  },
  {
   "cell_type": "markdown",
   "metadata": {},
   "source": [
    "Running multiple iterations on this, my best accuracy was 93% on the iris dataset with the following hyperparameters:\\\\\n",
    "\n",
    "hidden_layer_sizes: 100\\\n",
    "activation: relu\\\n",
    "solver: adam\\\n",
    "learning_rate: 0.0025\\\n",
    "max_iter: 300\\\n",
    "momentum: 0.9\\\n",
    "nesterovs_momentum: True\\\n",
    "early_stopping: False\\\n",
    "score: 0.9333333333333333\\\n",
    "training time: 0.11300826072692871 \\"
   ]
  }
 ],
 "metadata": {
  "colab": {
   "collapsed_sections": [],
   "name": "lab 1 - perceptron",
   "provenance": []
  },
  "kernelspec": {
   "display_name": "Python 3.10.5 ('base')",
   "language": "python",
   "name": "python3"
  },
  "language_info": {
   "codemirror_mode": {
    "name": "ipython",
    "version": 3
   },
   "file_extension": ".py",
   "mimetype": "text/x-python",
   "name": "python",
   "nbconvert_exporter": "python",
   "pygments_lexer": "ipython3",
   "version": "3.10.5"
  },
  "vscode": {
   "interpreter": {
    "hash": "c6e4e9f98eb68ad3b7c296f83d20e6de614cb42e90992a65aa266555a3137d0d"
   }
  }
 },
 "nbformat": 4,
 "nbformat_minor": 4
}
